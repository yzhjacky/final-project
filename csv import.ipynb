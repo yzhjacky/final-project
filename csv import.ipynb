{
 "cells": [
  {
   "cell_type": "code",
   "execution_count": 2,
   "id": "bff5a7ec",
   "metadata": {},
   "outputs": [
    {
     "name": "stdout",
     "output_type": "stream",
     "text": [
      "              0\n",
      "0    549.238916\n",
      "1    534.413106\n",
      "2    521.483335\n",
      "3    547.766244\n",
      "4    533.608612\n",
      "..          ...\n",
      "995  527.783154\n",
      "996  553.918288\n",
      "997  535.524052\n",
      "998  507.453747\n",
      "999  530.977184\n",
      "\n",
      "[1000 rows x 1 columns]\n",
      "              0\n",
      "0    568.962122\n",
      "1    584.505440\n",
      "2    576.575288\n",
      "3    581.090049\n",
      "4    589.159028\n",
      "..          ...\n",
      "995  565.006224\n",
      "996  593.227150\n",
      "997  591.340483\n",
      "998  579.458556\n",
      "999  575.833280\n",
      "\n",
      "[1000 rows x 1 columns]\n"
     ]
    }
   ],
   "source": [
    "import pandas as pd\n",
    "\n",
    "\n",
    "df = pd.read_csv(r'C:\\Users\\Ron\\Desktop\\export_dataframe.csv_1')\n",
    "df_2 = pd.read_csv(r'C:\\Users\\Ron\\Desktop\\export_dataframe.csv_2')\n",
    "print(df)\n",
    "print(df_2)"
   ]
  },
  {
   "cell_type": "code",
   "execution_count": null,
   "id": "29d85198",
   "metadata": {},
   "outputs": [],
   "source": []
  }
 ],
 "metadata": {
  "kernelspec": {
   "display_name": "Python 3 (clean)",
   "language": "python",
   "name": "python3_clean"
  },
  "language_info": {
   "codemirror_mode": {
    "name": "ipython",
    "version": 3
   },
   "file_extension": ".py",
   "mimetype": "text/x-python",
   "name": "python",
   "nbconvert_exporter": "python",
   "pygments_lexer": "ipython3",
   "version": "3.9.5"
  }
 },
 "nbformat": 4,
 "nbformat_minor": 5
}
