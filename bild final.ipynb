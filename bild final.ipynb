{
 "cells": [
  {
   "cell_type": "code",
   "execution_count": 20,
   "id": "628d3498",
   "metadata": {},
   "outputs": [
    {
     "data": {
      "image/png": "[encoded data removed]",
      "text/plain": [
       "<Figure size 432x288 with 1 Axes>"
      ]
     },
     "metadata": {
      "needs_background": "light"
     },
     "output_type": "display_data"
    },
    {
     "name": "stdout",
     "output_type": "stream",
     "text": [
      "              0\n",
      "0    549.238916\n",
      "1    534.413106\n",
      "2    521.483335\n",
      "3    547.766244\n",
      "4    533.608612\n",
      "..          ...\n",
      "995  527.783154\n",
      "996  553.918288\n",
      "997  535.524052\n",
      "998  507.453747\n",
      "999  530.977184\n",
      "\n",
      "[1000 rows x 1 columns]\n",
      "              0\n",
      "0    568.962122\n",
      "1    584.505440\n",
      "2    576.575288\n",
      "3    581.090049\n",
      "4    589.159028\n",
      "..          ...\n",
      "995  565.006224\n",
      "996  593.227150\n",
      "997  591.340483\n",
      "998  579.458556\n",
      "999  575.833280\n",
      "\n",
      "[1000 rows x 1 columns]\n"
     ]
    }
   ],
   "source": [
    "#Cell for green and yellow normal distributions\n",
    "#Green - 490 - 570 nm. with mean of 530\n",
    "#Yellow - 570 - 585 nm. with mean of 578\n",
    "\n",
    "import numpy as np\n",
    "import pandas as pd\n",
    "import matplotlib.pyplot as plt\n",
    "a = 0.5\n",
    "\n",
    "random_normal_green = np.random.normal(loc=530, scale= 15,size=1000)\n",
    "plt.hist(random_normal_green,bins=100,color=[1,0,0,a])\n",
    "random_normal_yellow = np.random.normal(loc=578, scale= 15,size=1000)\n",
    "plt.hist(random_normal_yellow,bins=100,color=[0,0,1,a])\n",
    "\n",
    "plt.show()\n",
    "\n",
    "df_1 = pd.DataFrame(random_normal_green)\n",
    "df_1.to_csv(r'C:\\Users\\Ron\\Desktop\\export_dataframe.csv_1', index=False, header=True)\n",
    "df_2 =pd.DataFrame(random_normal_yellow)\n",
    "df_2.to_csv(r'C:\\Users\\Ron\\Desktop\\export_dataframe.csv_2', index=False, header=True)\n",
    "\n",
    "print(df_1)\n",
    "print(df_2)"
   ]
  },
  {
   "cell_type": "code",
   "execution_count": null,
   "id": "a6ff9654",
   "metadata": {},
   "outputs": [],
   "source": []
  }
 ],
 "metadata": {
  "kernelspec": {
   "display_name": "Python 3 (clean)",
   "language": "python",
   "name": "python3_clean"
  },
  "language_info": {
   "codemirror_mode": {
    "name": "ipython",
    "version": 3
   },
   "file_extension": ".py",
   "mimetype": "text/x-python",
   "name": "python",
   "nbconvert_exporter": "python",
   "pygments_lexer": "ipython3",
   "version": "3.9.5"
  }
 },
 "nbformat": 4,
 "nbformat_minor": 5
}
